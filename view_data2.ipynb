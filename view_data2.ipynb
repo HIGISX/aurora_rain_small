{
 "cells": [
  {
   "cell_type": "code",
   "execution_count": 13,
   "metadata": {},
   "outputs": [],
   "source": [
    "import os\n",
    "os.environ['CUDA_VISIBLE_DEVICES'] = '1'\n",
    "from aurora import Aurora\n",
    "from aurora.normalisation import locations, scales\n",
    "import xarray as xr\n",
    "from aurora import  Batch, Metadata, rollout\n",
    "import torch\n",
    "from scipy.ndimage import zoom"
   ]
  },
  {
   "cell_type": "code",
   "execution_count": 14,
   "metadata": {},
   "outputs": [],
   "source": [
    "# File paths\n",
    "co2_data_sfc = r\"C:\\Users\\DC\\Documents\\vscode4\\data_sfc.nc\"\n",
    "download_path = r'C:\\Users\\DC\\Documents\\vscode4\\ubuntu_vs\\vscode\\VScode2\\vscode\\down'\n",
    "co2_data_sfc2 = r\"C:\\Users\\DC\\Documents\\vscode4\\7bc2ad758dd66a384b66b64346e658f3\\data_sfc.nc\"\n",
    "\n",
    "# Load datasets\n",
    "co2_data_sfc = xr.open_dataset(co2_data_sfc, engine=\"netcdf4\")\n",
    "static_vars_ds = xr.open_dataset(f\"{download_path}/static.nc\", engine=\"netcdf4\")\n",
    "surf_vars_ds = xr.open_dataset(f\"{download_path}/2023-01-01-surface-level.nc\", engine=\"netcdf4\")\n",
    "atmos_vars_ds = xr.open_dataset(f\"{download_path}/2023-01-01-atmospheric.nc\", engine=\"netcdf4\")\n",
    "co2_data_sfc2 = xr.open_dataset(co2_data_sfc2, engine=\"netcdf4\")"
   ]
  },
  {
   "cell_type": "code",
   "execution_count": 15,
   "metadata": {},
   "outputs": [
    {
     "data": {
      "text/plain": [
       "(2, 3600)"
      ]
     },
     "execution_count": 15,
     "metadata": {},
     "output_type": "execute_result"
    }
   ],
   "source": [
    "co2_data_sfc['aco2rec'][0,0,:,:][[0,1]].shape"
   ]
  },
  {
   "cell_type": "code",
   "execution_count": 16,
   "metadata": {},
   "outputs": [
    {
     "data": {
      "text/plain": [
       "(2, 1801, 3600)"
      ]
     },
     "execution_count": 16,
     "metadata": {},
     "output_type": "execute_result"
    }
   ],
   "source": [
    "co2_data_sfc['aco2rec'][:,0,:,:][[0,1]].shape"
   ]
  },
  {
   "cell_type": "code",
   "execution_count": 17,
   "metadata": {},
   "outputs": [
    {
     "data": {
      "text/plain": [
       "(41, 1801, 3600)"
      ]
     },
     "execution_count": 17,
     "metadata": {},
     "output_type": "execute_result"
    }
   ],
   "source": [
    "co2_data_sfc['aco2rec'][:,0,:,:].shape"
   ]
  },
  {
   "cell_type": "code",
   "execution_count": 18,
   "metadata": {},
   "outputs": [
    {
     "data": {
      "text/plain": [
       "(41, 22, 1801, 3600)"
      ]
     },
     "execution_count": 18,
     "metadata": {},
     "output_type": "execute_result"
    }
   ],
   "source": [
    "co2_data_sfc2['aco2rec'].shape"
   ]
  },
  {
   "cell_type": "code",
   "execution_count": 19,
   "metadata": {},
   "outputs": [
    {
     "data": {
      "text/plain": [
       "(720,)"
      ]
     },
     "execution_count": 19,
     "metadata": {},
     "output_type": "execute_result"
    }
   ],
   "source": [
    "atmos_vars_ds.latitude.values[:720].shape"
   ]
  },
  {
   "cell_type": "code",
   "execution_count": 20,
   "metadata": {},
   "outputs": [
    {
     "data": {
      "text/plain": [
       "(1440,)"
      ]
     },
     "execution_count": 20,
     "metadata": {},
     "output_type": "execute_result"
    }
   ],
   "source": [
    "atmos_vars_ds.longitude[:1440].shape"
   ]
  },
  {
   "cell_type": "code",
   "execution_count": null,
   "metadata": {},
   "outputs": [],
   "source": []
  }
 ],
 "metadata": {
  "kernelspec": {
   "display_name": "base",
   "language": "python",
   "name": "python3"
  },
  "language_info": {
   "codemirror_mode": {
    "name": "ipython",
    "version": 3
   },
   "file_extension": ".py",
   "mimetype": "text/x-python",
   "name": "python",
   "nbconvert_exporter": "python",
   "pygments_lexer": "ipython3",
   "version": "3.11.7"
  }
 },
 "nbformat": 4,
 "nbformat_minor": 2
}
