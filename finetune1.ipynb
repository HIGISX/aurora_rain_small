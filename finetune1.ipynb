{
 "cells": [
  {
   "cell_type": "code",
   "execution_count": 1,
   "id": "initial_id",
   "metadata": {
    "ExecuteTime": {
     "end_time": "2024-11-06T07:05:27.650430Z",
     "start_time": "2024-11-06T07:05:27.642860Z"
    },
    "collapsed": true
   },
   "outputs": [
    {
     "name": "stderr",
     "output_type": "stream",
     "text": [
      "c:\\Users\\DC\\anaconda3\\Lib\\site-packages\\timm\\models\\layers\\__init__.py:48: FutureWarning: Importing from timm.models.layers is deprecated, please import via timm.layers\n",
      "  warnings.warn(f\"Importing from {__name__} is deprecated, please import via timm.layers\", FutureWarning)\n"
     ]
    }
   ],
   "source": [
    "import os\n",
    "os.environ['CUDA_VISIBLE_DEVICES'] = '2'\n",
    "from aurora import AuroraSmall\n",
    "from aurora.normalisation import locations, scales\n",
    "import xarray as xr\n",
    "from aurora import  Batch, Metadata, rollout\n",
    "from aurora.normalisation import locations, scales\n",
    "import torch\n",
    "import numpy as np\n",
    "from scipy.ndimage import zoom\n",
    "locations[\"aco2rec\"] = 0.0\n",
    "scales[\"aco2rec\"] = 1.0\n",
    "locations[\"aco2gpp\"] = 0.0\n",
    "scales[\"aco2gpp\"] = 1.0\n",
    "locations[\"aco2nee\"] = 0.0\n",
    "scales[\"aco2nee\"] = 1.0\n",
    "locations[\"fco2rec\"] = 0.0\n",
    "scales[\"fco2rec\"] = 1.0\n",
    "locations[\"fco2gpp\"] = 0.0\n",
    "scales[\"fco2gpp\"] = 1.0\n",
    "locations[\"fco2nee\"] = 0.0\n",
    "scales[\"fco2nee\"] = 1.0\n",
    "locations[\"a1_1000\"] = 0.0\n",
    "scales[\"a1_1000\"] = 1.0\n",
    "# Load the Aurora model\n",
    "model = AuroraSmall(\n",
    "    use_lora=False,\n",
    "    surf_vars=(\n",
    "        \"aco2rec\",\n",
    "        \"aco2gpp\",\n",
    "        \"aco2nee\",\n",
    "        \"fco2rec\",\n",
    "        \"fco2gpp\",\n",
    "        \"fco2nee\",),\n",
    "    static_vars=(\"lsm\", \"z\", \"slt\"),\n",
    "    atmos_vars=(\"t\"),\n",
    ").cuda()\n",
    "# model.load_checkpoint(\"microsoft/aurora\", r\"C:\\Users\\DC\\Documents\\vscode4\\aurora_co2_2\\aurora-0.25-finetuned.ckpt\", strict=False)\n",
    "# File paths\n",
    "co2_data_sfc = r\"C:\\Users\\DC\\Documents\\vscode4\\7bc2ad758dd66a384b66b64346e658f3\\data_sfc.nc\"\n",
    "download_path = r'C:\\Users\\DC\\Documents\\vscode4\\ubuntu_vs\\vscode\\VScode2\\vscode\\down'\n",
    "\n",
    "# Load datasets\n",
    "co2_data_sfc = xr.open_dataset(co2_data_sfc, engine=\"netcdf4\")\n",
    "static_vars_ds = xr.open_dataset(f\"{download_path}/static.nc\", engine=\"netcdf4\")\n",
    "surf_vars_ds = xr.open_dataset(f\"{download_path}/2023-01-01-surface-level.nc\", engine=\"netcdf4\")\n",
    "atmos_vars_ds = xr.open_dataset(f\"{download_path}/2023-01-01-atmospheric.nc\", engine=\"netcdf4\")"
   ]
  },
  {
   "cell_type": "code",
   "execution_count": 2,
   "id": "6d82ad5d",
   "metadata": {},
   "outputs": [
    {
     "name": "stdout",
     "output_type": "stream",
     "text": [
      "<class 'torch.Tensor'>\n",
      "torch.Size([1, 6, 1800, 3600])\n",
      "\n",
      "<class 'torch.Tensor'>\n",
      "torch.Size([1, 6, 1800, 3600])\n",
      "\n",
      "\n"
     ]
    }
   ],
   "source": [
    "for epoch in range(1):\n",
    "    for i in range(0, 1):\n",
    "        None\n",
    "        for j in range(1,2):\n",
    "            None\n",
    "            arr_aco2rec=zoom(co2_data_sfc['aco2rec'][:,i,:,:][[j-1,j]], (1,  721 / co2_data_sfc['aco2rec'].shape[2], 1440 / co2_data_sfc['aco2rec'].shape[3]), order=1)\n",
    "            arr_aco2rec=arr_aco2rec[None]\n",
    "            arr_aco2gpp=zoom(co2_data_sfc['aco2gpp'][:,i,:,:][[j-1,j]], (1,  721 / co2_data_sfc['aco2rec'].shape[2], 1440 / co2_data_sfc['aco2rec'].shape[3]), order=1)\n",
    "            arr_aco2gpp=arr_aco2gpp[None]\n",
    "            arr_aco2nee=zoom(co2_data_sfc['aco2nee'][:,i,:,:][[j-1,j]], (1,  721 / co2_data_sfc['aco2rec'].shape[2], 1440 / co2_data_sfc['aco2rec'].shape[3]), order=1)\n",
    "            arr_aco2nee=arr_aco2nee[None]\n",
    "            arr_fco2rec=zoom(co2_data_sfc['fco2rec'][:,i,:,:][[j-1,j]], (1,  721 / co2_data_sfc['aco2rec'].shape[2], 1440 / co2_data_sfc['aco2rec'].shape[3]), order=1)\n",
    "            arr_fco2rec=arr_fco2rec[None]\n",
    "            arr_fco2gpp=zoom(co2_data_sfc['fco2gpp'][:,i,:,:][[j-1,j]], (1,  721 / co2_data_sfc['aco2rec'].shape[2], 1440 / co2_data_sfc['aco2rec'].shape[3]), order=1)\n",
    "            arr_fco2gpp=arr_fco2gpp[None]\n",
    "            arr_fco2nee=zoom(co2_data_sfc['fco2nee'][:,i,:,:][[j-1,j]], (1,  721 / co2_data_sfc['aco2rec'].shape[2], 1440 / co2_data_sfc['aco2rec'].shape[3]), order=1)\n",
    "            arr_fco2nee=arr_fco2nee[None]\n",
    "\n",
    "            # arr_aco2gpp=co2_data_sfc['aco2gpp'][:,0,:,:][[i-1,i]].values\n",
    "            # arr_aco2gpp=arr_aco2gpp[None]\n",
    "            # arr_aco2nee=co2_data_sfc['aco2nee'][:,0,:,:][[i-1,i]].values\n",
    "            # arr_aco2nee=arr_aco2nee[None]\n",
    "            # arr_fco2rec=co2_data_sfc['fco2rec'][:,0,:,:][[i-1,i]].values\n",
    "            # arr_fco2rec=arr_fco2rec[None]\n",
    "            # arr_fco2gpp=co2_data_sfc['fco2gpp'][:,0,:,:][[i-1,i]].values\n",
    "            # arr_fco2gpp=arr_fco2gpp[None]\n",
    "            # arr_fco2nee=co2_data_sfc['fco2nee'][:,0,:,:][[i-1,i]].values\n",
    "            # arr_fco2nee=arr_fco2nee[None]\n",
    "            arr_np=np.ones((1, 2, 13, 721, 1440))\n",
    "            arr_np_pred=np.ones((2,1800,3600))\n",
    "            # arr_np=np.ones((1, 2, 13, 721, 1440))\n",
    "        #     pred_batch = Batch(\n",
    "        #     surf_vars={\n",
    "        #         \"aco2rec\": torch.from_numpy(arr_np_pred),\n",
    "        #         \"aco2gpp\": torch.from_numpy(arr_np_pred),\n",
    "        #         \"aco2nee\": torch.from_numpy(arr_np_pred),\n",
    "        #         \"fco2rec\": torch.from_numpy(arr_np_pred),\n",
    "        #         \"fco2gpp\": torch.from_numpy(arr_np_pred),\n",
    "        #         \"fco2nee\": torch.from_numpy(arr_np_pred),\n",
    "                \n",
    "        #     },\n",
    "        #     static_vars={},\n",
    "        #     atmos_vars={},\n",
    "        #     metadata=Metadata(\n",
    "        #         lat=torch.from_numpy(co2_data_sfc.latitude.values),\n",
    "        #         lon=torch.from_numpy(co2_data_sfc.longitude.values),\n",
    "        #         time=(co2_data_sfc.valid_time.values.astype(\"datetime64[s]\").tolist()[0][i],),\n",
    "        #         atmos_levels=tuple(int(level) for level in atmos_vars_ds.pressure_level.values),\n",
    "        #     ),\n",
    "        # )\n",
    "            \n",
    "            batch = Batch(\n",
    "            surf_vars={\n",
    "                \"aco2rec\": torch.from_numpy(arr_aco2rec),\n",
    "                \"aco2gpp\": torch.from_numpy(arr_aco2gpp),\n",
    "                \"aco2nee\": torch.from_numpy(arr_aco2nee),\n",
    "                \"fco2rec\": torch.from_numpy(arr_fco2rec),\n",
    "                \"fco2gpp\": torch.from_numpy(arr_fco2gpp),\n",
    "                \"fco2nee\": torch.from_numpy(arr_fco2nee),\n",
    "                \n",
    "            },\n",
    "            static_vars={\n",
    "                # \"z\": torch.from_numpy(zoom(static_vars_ds[\"z\"].values[0], (1801 / static_vars_ds[\"z\"].shape[1], 3600 / static_vars_ds[\"z\"].shape[2]), order=1)),\n",
    "                # \"slt\": torch.from_numpy(zoom(static_vars_ds[\"slt\"].values[0], (1801 / static_vars_ds[\"z\"].shape[1], 3600 / static_vars_ds[\"z\"].shape[2]), order=1)),\n",
    "                # \"lsm\": torch.from_numpy(zoom(static_vars_ds[\"lsm\"].values[0], (1801 / static_vars_ds[\"z\"].shape[1], 3600 / static_vars_ds[\"z\"].shape[2]), order=1)),\n",
    "                \"z\": torch.from_numpy(static_vars_ds[\"z\"].values[0]),\n",
    "                \"slt\": torch.from_numpy(static_vars_ds[\"slt\"].values[0]),\n",
    "                \"lsm\": torch.from_numpy(static_vars_ds[\"lsm\"].values[0]),\n",
    "            },\n",
    "            atmos_vars={\n",
    "                #  \"t\": torch.from_numpy(zoom(atmos_vars_ds[\"t\"].values[[0, 1]][None], (1, 1,1, 1801 / atmos_vars_ds[\"t\"].shape[2], 3600 / atmos_vars_ds[\"t\"].shape[3]), order=1)),\n",
    "                # \"u\": torch.from_numpy(zoom(atmos_vars_ds[\"u\"].values[[0, 1]][None], (1, 1,1, 1801 / atmos_vars_ds[\"t\"].shape[2], 3600 / atmos_vars_ds[\"t\"].shape[3]), order=1)),\n",
    "                # \"v\": torch.from_numpy(zoom(atmos_vars_ds[\"v\"].values[[0, 1]][None], (1, 1,1, 1801 / atmos_vars_ds[\"t\"].shape[2], 3600 / atmos_vars_ds[\"t\"].shape[3]), order=1)),\n",
    "                # \"q\": torch.from_numpy(zoom(atmos_vars_ds[\"q\"].values[[0, 1]][None], (1, 1,1, 1801 / atmos_vars_ds[\"t\"].shape[2], 3600 / atmos_vars_ds[\"t\"].shape[3]), order=1)),\n",
    "                # \"z\": torch.from_numpy(zoom(atmos_vars_ds[\"z\"].values[[0, 1]][None], (1, 1,1, 1801 / atmos_vars_ds[\"t\"].shape[2], 3600 / atmos_vars_ds[\"t\"].shape[3]), order=1)),\n",
    "                \"t\": torch.from_numpy(arr_np),\n",
    "                # \"u\": torch.from_numpy(arr_np),\n",
    "                # \"v\": torch.from_numpy(arr_np),\n",
    "                # \"q\": torch.from_numpy(arr_np),\n",
    "                # \"z\": torch.from_numpy(arr_np),\n",
    "            },\n",
    "            metadata=Metadata(\n",
    "                lat=torch.from_numpy(atmos_vars_ds.latitude.values),\n",
    "                lon=torch.from_numpy(atmos_vars_ds.longitude.values),\n",
    "                time=(co2_data_sfc.valid_time.values.astype(\"datetime64[s]\").tolist()[0][i],),\n",
    "                atmos_levels=tuple(int(level) for level in atmos_vars_ds.pressure_level.values),\n",
    "            ),\n",
    "        )\n",
    "            model = model.cuda()\n",
    "            model.train()\n",
    "            preds = [pred for pred in rollout(model, batch, steps=2)]\n",
    "            # pred = model.forward(batch)\n",
    "            # print(pred)\n",
    "            print()"
   ]
  },
  {
   "cell_type": "code",
   "execution_count": 4,
   "id": "17866e04ace0f766",
   "metadata": {
    "ExecuteTime": {
     "end_time": "2024-11-06T07:06:15.279577700Z",
     "start_time": "2024-11-06T05:48:25.550142Z"
    }
   },
   "outputs": [
    {
     "data": {
      "text/plain": [
       "2"
      ]
     },
     "execution_count": 4,
     "metadata": {},
     "output_type": "execute_result"
    }
   ],
   "source": [
    "\n",
    "len(preds)"
   ]
  },
  {
   "cell_type": "code",
   "execution_count": 7,
   "id": "ac238ecf",
   "metadata": {},
   "outputs": [
    {
     "data": {
      "text/plain": [
       "dict_keys(['aco2rec', 'aco2gpp', 'aco2nee', 'fco2rec', 'fco2gpp', 'fco2nee'])"
      ]
     },
     "execution_count": 7,
     "metadata": {},
     "output_type": "execute_result"
    }
   ],
   "source": [
    "preds[0].surf_vars.keys()"
   ]
  },
  {
   "cell_type": "code",
   "execution_count": 9,
   "id": "a4d5d92a",
   "metadata": {},
   "outputs": [
    {
     "data": {
      "text/plain": [
       "torch.Size([1, 1, 1800, 3600])"
      ]
     },
     "execution_count": 9,
     "metadata": {},
     "output_type": "execute_result"
    }
   ],
   "source": [
    "preds[0].surf_vars['aco2rec'].shape"
   ]
  },
  {
   "cell_type": "code",
   "execution_count": null,
   "id": "662476d8",
   "metadata": {},
   "outputs": [],
   "source": []
  }
 ],
 "metadata": {
  "kernelspec": {
   "display_name": "base",
   "language": "python",
   "name": "python3"
  },
  "language_info": {
   "codemirror_mode": {
    "name": "ipython",
    "version": 3
   },
   "file_extension": ".py",
   "mimetype": "text/x-python",
   "name": "python",
   "nbconvert_exporter": "python",
   "pygments_lexer": "ipython3",
   "version": "3.11.7"
  }
 },
 "nbformat": 4,
 "nbformat_minor": 5
}
